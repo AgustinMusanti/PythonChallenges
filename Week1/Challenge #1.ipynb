{
 "cells": [
  {
   "cell_type": "markdown",
   "id": "14e159d0-b208-4e7d-b732-f450924491ba",
   "metadata": {},
   "source": [
    "## 1) Dada una lista de números encontrar el promedio de sus elementos\n",
    "### a) Sin usar ninguna función"
   ]
  },
  {
   "cell_type": "code",
   "execution_count": 10,
   "id": "006c4e7f-84ad-401a-bad4-8f127ec16d3f",
   "metadata": {},
   "outputs": [],
   "source": [
    "numeros = [10, 20, 30, 40, 50]"
   ]
  },
  {
   "cell_type": "code",
   "execution_count": 22,
   "id": "6106be39-e730-43c5-8ef4-abf8c72953e0",
   "metadata": {},
   "outputs": [
    {
     "name": "stdout",
     "output_type": "stream",
     "text": [
      "Promedio sin funciones: 30.0\n"
     ]
    }
   ],
   "source": [
    "# Inicio la suma y el contador de elementos\n",
    "suma = 0\n",
    "contador = 0\n",
    "\n",
    "# Recorro cada número en la lista y actualizo la suma y el contador\n",
    "for numero in numeros:\n",
    "    suma += numero\n",
    "    contador += 1\n",
    "\n",
    "# Calculamos el promedio\n",
    "promedio = suma / contador\n",
    "\n",
    "print(\"Promedio sin funciones:\", promedio)"
   ]
  },
  {
   "cell_type": "markdown",
   "id": "cee44b64-cd82-4415-b2ff-3be9b613fbfd",
   "metadata": {},
   "source": [
    "### b) Usando funciones de Python"
   ]
  },
  {
   "cell_type": "code",
   "execution_count": 20,
   "id": "c74b017c-d342-4629-8fe0-61ab6efd1208",
   "metadata": {},
   "outputs": [
    {
     "name": "stdout",
     "output_type": "stream",
     "text": [
      "Promedio con funciones: 30.0\n"
     ]
    }
   ],
   "source": [
    "numeros = [10, 20, 30, 40, 50]\n",
    "\n",
    "# Uso sum() para sumar los elementos y len() para el total de elementos\n",
    "promedio = sum(numeros) / len(numeros)\n",
    "\n",
    "print(\"Promedio con funciones:\", promedio)"
   ]
  },
  {
   "cell_type": "markdown",
   "id": "a322772a-4963-47b4-8dec-98fd3e103064",
   "metadata": {},
   "source": [
    "## 2) Crear una lista con los primeros 10 múltiplos de 5\n",
    "### a) Usando bucles tradicionales"
   ]
  },
  {
   "cell_type": "code",
   "execution_count": 19,
   "id": "18124175-5b2d-4828-af44-b0dfff44d241",
   "metadata": {},
   "outputs": [
    {
     "name": "stdout",
     "output_type": "stream",
     "text": [
      "Múltiplos de 5 con bucle tradicional: [5, 10, 15, 20, 25, 30, 35, 40, 45, 50]\n"
     ]
    }
   ],
   "source": [
    "# Lista vacía para almacenar los múltiplos de 5\n",
    "multiplos_de_5 = []\n",
    "\n",
    "# Uso un bucle para obtener los primeros 10 múltiplos de 5\n",
    "for i in range(1, 11):\n",
    "    multiplos_de_5.append(i * 5)\n",
    "\n",
    "print(\"Múltiplos de 5 con bucle tradicional:\", multiplos_de_5)"
   ]
  },
  {
   "cell_type": "markdown",
   "id": "784ca5ab-51ea-4bcb-a39d-17337693cb72",
   "metadata": {},
   "source": [
    "### b) Usando listas por comprensión"
   ]
  },
  {
   "cell_type": "code",
   "execution_count": 18,
   "id": "95c9ab13-985d-46f6-91bf-7f8670fe2c85",
   "metadata": {},
   "outputs": [
    {
     "name": "stdout",
     "output_type": "stream",
     "text": [
      "Múltiplos de 5 con lista por comprensión: [5, 10, 15, 20, 25, 30, 35, 40, 45, 50]\n"
     ]
    }
   ],
   "source": [
    "# Uso una lista por comprensión para crear la lista de múltiplos de 5\n",
    "multiplos_de_5 = [i * 5 for i in range(1, 11)]\n",
    "\n",
    "print(\"Múltiplos de 5 con lista por comprensión:\", multiplos_de_5)"
   ]
  },
  {
   "cell_type": "markdown",
   "id": "7730471d-a3f6-47ce-be87-cce93cca8397",
   "metadata": {},
   "source": [
    "## 3) Dadas dos listas, crear otra que tenga los elementos que están en la primera y que no están en la segunda (Cada elemento debe aparecer tantas veces como en la lista original).\n",
    "### a) Usando bucles tradicionales."
   ]
  },
  {
   "cell_type": "code",
   "execution_count": 17,
   "id": "03c8182a-5b5d-4259-b921-fcb85bab3e3e",
   "metadata": {},
   "outputs": [],
   "source": [
    "lista1 = [1, 2, 2, 3, 4, 5, 6]\n",
    "lista2 = [2, 4, 6]"
   ]
  },
  {
   "cell_type": "code",
   "execution_count": 23,
   "id": "d9004185-f921-475a-a634-c0a12943fce0",
   "metadata": {},
   "outputs": [
    {
     "name": "stdout",
     "output_type": "stream",
     "text": [
      "Elementos en lista1 y no en lista2 usando bucles: [1, 3, 5]\n"
     ]
    }
   ],
   "source": [
    "# En esta lista se almacenarán los elementos que están en lista1 y no en lista2\n",
    "resultado = []\n",
    "\n",
    "for elemento in lista1:\n",
    "    if elemento not in lista2:\n",
    "        resultado.append(elemento)\n",
    "\n",
    "print(\"Elementos en lista1 y no en lista2 usando bucles:\", resultado)"
   ]
  },
  {
   "cell_type": "markdown",
   "id": "9d72d150-a42e-40d8-b59b-6b1b8afab9ad",
   "metadata": {},
   "source": [
    "### b) Usando listas por comprensión"
   ]
  },
  {
   "cell_type": "code",
   "execution_count": 26,
   "id": "efe9f1e6-9b9d-4d12-9110-d6a309b2176f",
   "metadata": {},
   "outputs": [
    {
     "name": "stdout",
     "output_type": "stream",
     "text": [
      "Elementos en lista1 y no en lista2 usando comprensión: [1, 3, 5]\n"
     ]
    }
   ],
   "source": [
    "# Uso una lista por comprensión para filtrar los elementos\n",
    "resultado = [elemento for elemento in lista1 if elemento not in lista2]\n",
    "\n",
    "print(\"Elementos en lista1 y no en lista2 usando comprensión:\", resultado)"
   ]
  }
 ],
 "metadata": {
  "kernelspec": {
   "display_name": "Python 3 (ipykernel)",
   "language": "python",
   "name": "python3"
  },
  "language_info": {
   "codemirror_mode": {
    "name": "ipython",
    "version": 3
   },
   "file_extension": ".py",
   "mimetype": "text/x-python",
   "name": "python",
   "nbconvert_exporter": "python",
   "pygments_lexer": "ipython3",
   "version": "3.12.7"
  }
 },
 "nbformat": 4,
 "nbformat_minor": 5
}
