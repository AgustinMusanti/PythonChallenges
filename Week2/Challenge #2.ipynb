{
 "cells": [
  {
   "cell_type": "markdown",
   "id": "f563878f-8469-4f3c-af8f-6138299f5198",
   "metadata": {},
   "source": [
    "# 1) Construir una función que dado un iterable, devuelva un diccionario con las frecuencias de sus elementos."
   ]
  },
  {
   "cell_type": "code",
   "execution_count": 2,
   "id": "4457ac02-c0b9-4e64-99b3-ff2c4240545c",
   "metadata": {},
   "outputs": [
    {
     "name": "stdout",
     "output_type": "stream",
     "text": [
      "{1: 3, 2: 1, 3: 4, 4: 2}\n"
     ]
    }
   ],
   "source": [
    "def contar_frecuencias(iterable):\n",
    "    frecuencias = {}\n",
    "    for elemento in iterable:\n",
    "        if elemento in frecuencias:\n",
    "            frecuencias[elemento] += 1\n",
    "        else:\n",
    "            frecuencias[elemento] = 1\n",
    "    return frecuencias\n",
    "\n",
    "## Ejemplo de uso\n",
    "\n",
    "lista = [1, 1, 1, 2, 3, 4, 3, 4, 3, 3]\n",
    "resultado = contar_frecuencias(lista)\n",
    "print(resultado)"
   ]
  },
  {
   "cell_type": "markdown",
   "id": "416e4127-b634-4eff-9b5c-6fa131b89e95",
   "metadata": {},
   "source": [
    "# 2) Construir una función que se llame suma_acotados. Esta función debe tomar un número arbitrario de argumentos posicionales y un keyword argument llamado cota que por defecto debe tener el valor None. Si el argumento cota es None, debe sumar todos los números, si no debe sumar los números  que se encuentren entre –cota y cota."
   ]
  },
  {
   "cell_type": "code",
   "execution_count": 3,
   "id": "4ffbe2da-eca3-4287-940e-2edcd641ce60",
   "metadata": {},
   "outputs": [],
   "source": [
    "def suma_acotados(*numeros, cota=None):\n",
    "    if cota is None:\n",
    "        # Si no hay límite, suma todos los números\n",
    "        return sum(numeros)\n",
    "    else:\n",
    "        # Si hay límite, filtra los números dentro del rango -cota a cota\n",
    "        return sum(num for num in numeros if -cota <= num <= cota)"
   ]
  },
  {
   "cell_type": "markdown",
   "id": "94e53a9f-7539-49e6-95a4-c6d9559060ae",
   "metadata": {},
   "source": [
    "# Ejemplo de uso\n",
    "## ~Sin limite (suma todos los números)"
   ]
  },
  {
   "cell_type": "code",
   "execution_count": 5,
   "id": "f2283f98-acca-4fa1-808e-b5199ae642ad",
   "metadata": {},
   "outputs": [
    {
     "name": "stdout",
     "output_type": "stream",
     "text": [
      "15\n"
     ]
    }
   ],
   "source": [
    "print(suma_acotados(1, 3, 4, 2, 5))"
   ]
  },
  {
   "cell_type": "markdown",
   "id": "80f6dcd5-b75d-4cc6-9119-0e5cdcfb7781",
   "metadata": {},
   "source": [
    "## ~Con límite (cota=3) (suma solo los números entre -3 y 3)"
   ]
  },
  {
   "cell_type": "code",
   "execution_count": 6,
   "id": "c12ae112-4d95-4145-89b9-c932371ef537",
   "metadata": {},
   "outputs": [
    {
     "name": "stdout",
     "output_type": "stream",
     "text": [
      "6\n"
     ]
    }
   ],
   "source": [
    "print(suma_acotados(1, 3, 4, 2, 5, cota=3))"
   ]
  },
  {
   "cell_type": "markdown",
   "id": "546bd165-b41f-4ff8-91e0-85657b5ccf82",
   "metadata": {},
   "source": [
    "# 3) Supongamos que tenemos una lista de tuplas en donde cada una contiene el nombre de un producto y el precio correspondiente. Por ejemplo:\n",
    " [(\"Campera\", 3500), (\"Mochila\", 2400), (\"Zapatillas\", 5200), (\"Jean\", 1600)] \n",
    "# Ordenar los productos según su precio de mayor a menor usando sorted, map y funciones lambda."
   ]
  },
  {
   "cell_type": "code",
   "execution_count": 8,
   "id": "6ffe6396-623f-413a-b142-08b2663f8de4",
   "metadata": {},
   "outputs": [
    {
     "name": "stdout",
     "output_type": "stream",
     "text": [
      "Productos ordenados por precio de mayor a menor:\n",
      "[('Zapatillas', 5200), ('Campera', 3500), ('Mochila', 2400), ('Jean', 1600)]\n",
      "Nombres de los productos ordenados\n",
      "['Zapatillas', 'Campera', 'Mochila', 'Jean']\n"
     ]
    }
   ],
   "source": [
    "productos = [(\"Campera\", 3500), (\"Mochila\", 2400), (\"Zapatillas\", 5200), (\"Jean\", 1600)]\n",
    "\n",
    "# Uso sorted con una función lambda para ordenar según el segundo elemento de cada tupla (el precio)\n",
    "productos_ordenados = sorted(productos, key=lambda producto: producto[1], reverse=True)\n",
    "\n",
    "# Adicionalmente, muestro solo los nombres de los productos ordenados de mayor a menor precio\n",
    "nombres_ordenados = list(map(lambda producto: producto[0], productos_ordenados))\n",
    "\n",
    "print(\"Productos ordenados por precio de mayor a menor:\")\n",
    "print(productos_ordenados)\n",
    "print(\"Nombres de los productos ordenados\")\n",
    "print(nombres_ordenados)"
   ]
  }
 ],
 "metadata": {
  "kernelspec": {
   "display_name": "Python 3 (ipykernel)",
   "language": "python",
   "name": "python3"
  },
  "language_info": {
   "codemirror_mode": {
    "name": "ipython",
    "version": 3
   },
   "file_extension": ".py",
   "mimetype": "text/x-python",
   "name": "python",
   "nbconvert_exporter": "python",
   "pygments_lexer": "ipython3",
   "version": "3.12.7"
  }
 },
 "nbformat": 4,
 "nbformat_minor": 5
}
