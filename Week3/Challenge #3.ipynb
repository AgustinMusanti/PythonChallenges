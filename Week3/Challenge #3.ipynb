{
 "cells": [
  {
   "cell_type": "markdown",
   "id": "856d29b4-8f2b-4464-9250-1d2eab50b28f",
   "metadata": {},
   "source": [
    "# 1) Construir arrays a partir de una lista simple y una lista anidada usando tipos de datos numéricos distintos para cada una."
   ]
  },
  {
   "cell_type": "code",
   "execution_count": 6,
   "id": "981cd006-dbce-4dba-a502-687e1e5c37b1",
   "metadata": {},
   "outputs": [
    {
     "name": "stdout",
     "output_type": "stream",
     "text": [
      "Array desde lista simple: [1 2 3 4 5]\n",
      "Array desde lista anidada:\n",
      " [[1.1 2.2]\n",
      " [3.3 4.4]]\n"
     ]
    }
   ],
   "source": [
    "import numpy as np\n",
    "\n",
    "# Array a partir de una lista simple (números enteros)\n",
    "\n",
    "lista_simple = [1, 2, 3, 4, 5]\n",
    "array_simple = np.array(lista_simple, dtype=int)\n",
    "print(\"Array desde lista simple:\", array_simple)\n",
    "\n",
    "# Array a partir de una lista anidada (números decimales)\n",
    "\n",
    "lista_anidada = [[1.1, 2.2], [3.3, 4.4]]\n",
    "array_anidado = np.array(lista_anidada, dtype=float)\n",
    "print(\"Array desde lista anidada:\\n\", array_anidado)"
   ]
  },
  {
   "cell_type": "markdown",
   "id": "1e5deeb2-f816-4521-a3f3-334d09b1186d",
   "metadata": {},
   "source": [
    "# 2) Construir un array lineal de 36 elementos. Cambiar el shape para que tenga: a) 3 filas y 12 columnas. b) 4 columnas"
   ]
  },
  {
   "cell_type": "code",
   "execution_count": 8,
   "id": "1099359c-1183-4510-a9de-1c64eec6b445",
   "metadata": {},
   "outputs": [
    {
     "name": "stdout",
     "output_type": "stream",
     "text": [
      "Array lineal de 36 elementos:\n",
      " [ 1  2  3  4  5  6  7  8  9 10 11 12 13 14 15 16 17 18 19 20 21 22 23 24\n",
      " 25 26 27 28 29 30 31 32 33 34 35 36]\n",
      "\n",
      "Array con shape 3x12:\n",
      " [[ 1  2  3  4  5  6  7  8  9 10 11 12]\n",
      " [13 14 15 16 17 18 19 20 21 22 23 24]\n",
      " [25 26 27 28 29 30 31 32 33 34 35 36]]\n",
      "\n",
      "Array con shape 9x4:\n",
      " [[ 1  2  3  4]\n",
      " [ 5  6  7  8]\n",
      " [ 9 10 11 12]\n",
      " [13 14 15 16]\n",
      " [17 18 19 20]\n",
      " [21 22 23 24]\n",
      " [25 26 27 28]\n",
      " [29 30 31 32]\n",
      " [33 34 35 36]]\n"
     ]
    }
   ],
   "source": [
    "\n",
    "# Creo un array lineal de 36 elementos (del 1 al 36)\n",
    "array_lineal = np.arange(1, 37)\n",
    "print(\"Array lineal de 36 elementos:\\n\", array_lineal)\n",
    "\n",
    "# (Inciso a) Cambio el shape a 3 filas y 12 columnas\n",
    "\n",
    "array_3x12 = array_lineal.reshape(3, 12)\n",
    "print(\"\\nArray con shape 3x12:\\n\", array_3x12)\n",
    "\n",
    "# (Inciso b) Cambio el shape a 9 filas y 4 columnas ya que 4x9=36\n",
    "\n",
    "array_9x4 = array_lineal.reshape(9, 4)\n",
    "print(\"\\nArray con shape 9x4:\\n\", array_9x4)"
   ]
  },
  {
   "cell_type": "markdown",
   "id": "2cfbf638-af07-412b-b76c-4cb4629d1667",
   "metadata": {},
   "source": [
    "# 3) Dado un vector de pesos(kg) y otro vector alturas(metros), calcular el índice de masa corporal general (un vector imc).\n"
   ]
  },
  {
   "cell_type": "code",
   "execution_count": 9,
   "id": "4b5a602a-596d-41ad-8bcb-523980cdfc84",
   "metadata": {},
   "outputs": [],
   "source": [
    "pesos = np.array([50,65.5,89.2,100])\n",
    "alturas = np.array([1.6,1.7,1.8,1.75])"
   ]
  },
  {
   "cell_type": "code",
   "execution_count": 10,
   "id": "7e6ea58b-a1d8-4ae1-9cf3-d891c6d53ca7",
   "metadata": {},
   "outputs": [
    {
     "name": "stdout",
     "output_type": "stream",
     "text": [
      "Vector de IMC: [19.53125    22.66435986 27.5308642  32.65306122]\n"
     ]
    }
   ],
   "source": [
    "# Vectores de pesos y alturas\n",
    "\n",
    "pesos = np.array([50, 65.5, 89.2, 100])\n",
    "alturas = np.array([1.6, 1.7, 1.8, 1.75])\n",
    "\n",
    "# Cálculo del IMC para cada par de peso y altura (peso sobre altura al cuadrado)\n",
    "\n",
    "imc = pesos / (alturas ** 2)\n",
    "print(\"Vector de IMC:\", imc)"
   ]
  },
  {
   "cell_type": "markdown",
   "id": "47dc8f76-42a1-4b3f-9a01-94145fd42312",
   "metadata": {},
   "source": [
    "# 4) Crear un vector con diez números, todos ceros. \n"
   ]
  },
  {
   "cell_type": "code",
   "execution_count": 3,
   "id": "4a74e351-3b0f-4bc2-8847-48f5c7ddec4e",
   "metadata": {},
   "outputs": [
    {
     "name": "stdout",
     "output_type": "stream",
     "text": [
      "Vector de diez ceros: [0. 0. 0. 0. 0. 0. 0. 0. 0. 0.]\n"
     ]
    }
   ],
   "source": [
    "import numpy as np\n",
    "\n",
    "vector_ceros = np.zeros(10)\n",
    "print(\"Vector de diez ceros:\", vector_ceros)"
   ]
  },
  {
   "cell_type": "markdown",
   "id": "79a3b97d-2432-4010-a668-991426d33723",
   "metadata": {},
   "source": [
    "# 5) Crear un vector con diez números al azar.\n"
   ]
  },
  {
   "cell_type": "code",
   "execution_count": 5,
   "id": "57b8dcaf-1574-41c2-9d92-ce172a4209a6",
   "metadata": {},
   "outputs": [
    {
     "name": "stdout",
     "output_type": "stream",
     "text": [
      "Vector de diez números al azar: [0.1774404  0.28414265 0.26127023 0.73930515 0.15732684 0.57565156\n",
      " 0.80049354 0.90060027 0.35671829 0.40639126]\n"
     ]
    }
   ],
   "source": [
    "# Si utilizo \"rand\" me arroja decimales entre 0 y 1\n",
    "\n",
    "vector_aleatorio = np.random.rand(10)\n",
    "print(\"Vector de diez números al azar:\", vector_aleatorio)"
   ]
  },
  {
   "cell_type": "code",
   "execution_count": 6,
   "id": "e1e46c54-61ac-4594-9487-9330a4aa611b",
   "metadata": {},
   "outputs": [
    {
     "name": "stdout",
     "output_type": "stream",
     "text": [
      "Vector de diez números enteros al azar: [93 31 75 58 60 82  4 54  4 12]\n"
     ]
    }
   ],
   "source": [
    "# Si utilizo \"randit\" me arroja decimales entre el rango que especifique, en este caso entre 1 y 100\n",
    "\n",
    "vector_aleatorio_enteros = np.random.randint(1, 101, size=10)\n",
    "print(\"Vector de diez números enteros al azar:\", vector_aleatorio_enteros)"
   ]
  },
  {
   "cell_type": "markdown",
   "id": "30efddb7-700a-4ecd-b32d-035232dccbbc",
   "metadata": {},
   "source": [
    "# 6) Crear una matriz de 2x3 y multiplicarla por su traspuesta. Lo pedido sería algo así: A*AT . \n"
   ]
  },
  {
   "cell_type": "code",
   "execution_count": 8,
   "id": "24944dbf-4967-4ab0-9500-a4ed4ce64d0c",
   "metadata": {},
   "outputs": [
    {
     "name": "stdout",
     "output_type": "stream",
     "text": [
      "Matriz A:\n",
      " [[1 2 3]\n",
      " [4 5 6]]\n",
      "\n",
      "Transpuesta de A (A^T):\n",
      " [[1 4]\n",
      " [2 5]\n",
      " [3 6]]\n",
      "\n",
      "Producto de A y A^T (A * A^T):\n",
      " [[14 32]\n",
      " [32 77]]\n"
     ]
    }
   ],
   "source": [
    "# Creo la matriz de 2x3\n",
    "\n",
    "A = np.array([[1, 2, 3], [4, 5, 6]])\n",
    "print(\"Matriz A:\\n\", A)\n",
    "\n",
    "# Luego calculo la transpuesta de A\n",
    "\n",
    "A_T = A.T\n",
    "print(\"\\nTranspuesta de A (A^T):\\n\", A_T)\n",
    "\n",
    "# Y por último multiplico A por su transpuesta A_T\n",
    "\n",
    "producto = np.dot(A, A_T)\n",
    "print(\"\\nProducto de A y A^T (A * A^T):\\n\", producto)"
   ]
  }
 ],
 "metadata": {
  "kernelspec": {
   "display_name": "Python 3 (ipykernel)",
   "language": "python",
   "name": "python3"
  },
  "language_info": {
   "codemirror_mode": {
    "name": "ipython",
    "version": 3
   },
   "file_extension": ".py",
   "mimetype": "text/x-python",
   "name": "python",
   "nbconvert_exporter": "python",
   "pygments_lexer": "ipython3",
   "version": "3.12.7"
  }
 },
 "nbformat": 4,
 "nbformat_minor": 5
}
